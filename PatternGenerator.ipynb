{
 "cells": [
  {
   "cell_type": "code",
   "execution_count": 1,
   "metadata": {
    "collapsed": true
   },
   "outputs": [],
   "source": [
    "import numpy as np\n",
    "import matplotlib.pyplot as plt\n",
    "\n",
    "#distribution vector function\n",
    "def vDis(e,vi):\n",
    "    m = vi.size\n",
    "    vo = np.full((1,m), e, dtype=float)\n",
    "    return vo"
   ]
  },
  {
   "cell_type": "code",
   "execution_count": 2,
   "metadata": {
    "collapsed": true
   },
   "outputs": [],
   "source": [
    "#distribution matrix function\n",
    "def mDis(e, mi):\n",
    "    m, n = mi.shape\n",
    "    mo = np.full((m,n), e, dtype=float)\n",
    "    return mo"
   ]
  },
  {
   "cell_type": "code",
   "execution_count": 13,
   "metadata": {
    "collapsed": true
   },
   "outputs": [],
   "source": [
    "#gauss funcion\n",
    "def gauss(x, cm, l):\n",
    "    y = np.exp((-(x-cm)**2) /l)\n",
    "    return y\n",
    "\n",
    "#gaussian function for all the elements of the matrix\n",
    "def EVFGauss(mi, cm, l):\n",
    "    m, n = mi.shape\n",
    "    mo = np.zeros((m, n), dtype=float)\n",
    "\n",
    "    for i in range(0, m):\n",
    "        for j in range(0, n):\n",
    "            mo[i, j] = gauss(mi[i, j], cm, l)\n",
    "\n",
    "    return mo"
   ]
  },
  {
   "cell_type": "code",
   "execution_count": 4,
   "metadata": {
    "collapsed": true
   },
   "outputs": [],
   "source": [
    "#Chaotic gaussian neuron\n",
    "def nGauss(sa):\n",
    "    l = 0.15\n",
    "    cm = 0.25\n",
    "    sa = gauss(sa, cm, l)\n",
    "    return sa"
   ]
  },
  {
   "cell_type": "code",
   "execution_count": 5,
   "metadata": {
    "collapsed": true
   },
   "outputs": [],
   "source": [
    "#Artificial Neural System Single Output\n",
    "def aNSSOutput(e, sa):\n",
    "    w1 = np.array(([0.1, 0.2, 0.3],[0.6, 0.5, 0.4], [0.7, 0.8, 0.9]), dtype=float)\n",
    "    w2 = np.array(([0.1, 0.2, 0.3], [0.6, 0.5, 0.4], [0.7, 0.8, 0.9]), dtype=float)\n",
    "    A = np.array(([0.1, 0.1, 0.1],[0.10, 1, 0.1], [0.1, 0, 0.1]), dtype=float)\n",
    "\n",
    "    mAux = np.zeros((3,3), dtype=float)\n",
    "\n",
    "    E = mDis(e, mAux)\n",
    "    m1 = w1 - E\n",
    "\n",
    "    sa = nGauss(sa)\n",
    "    SA = mDis(sa, mAux)\n",
    "    m2 = w2 - SA\n",
    "\n",
    "    mAux = m1 + m2\n",
    "    R = EVFGauss(mAux, 0.0, 0.15)\n",
    "\n",
    "    mTemp = R * A\n",
    "\n",
    "    s1 = np.sum(mTemp)\n",
    "    s2 = np.sum(R)\n",
    "    y = s1/(s2 + 0.00000052)\n",
    "\n",
    "    return y, sa\n"
   ]
  },
  {
   "cell_type": "code",
   "execution_count": 24,
   "metadata": {
    "collapsed": true
   },
   "outputs": [],
   "source": [
    "#Artificial Neural System Matrix Output\n",
    "def aNSMOutput(e, sa):\n",
    "    w1 = np.array(([0.1, 0.2, 0.3],[0.6, 0.5, 0.4], [0.7, 0.8, 0.9]), dtype=float)\n",
    "    w2 = np.array(([0.1, 0.2, 0.3], [0.6, 0.5, 0.4], [0.7, 0.8, 0.9]), dtype=float)\n",
    "    A = np.array(([180, 1, 1],[1, 180, 1], [1, 180, 180]), dtype=float)\n",
    "\n",
    "    mAux = np.zeros((3, 3), dtype=float)\n",
    "\n",
    "    E = mDis(e, mAux)\n",
    "    m1 = w1 - E\n",
    "\n",
    "    sa = nGauss(sa)\n",
    "    SA = mDis(sa, mAux)\n",
    "    m2 = w2 - SA\n",
    "\n",
    "    mAux = m1 + m2\n",
    "    R = EVFGauss(mAux, 0.0, 0.15)\n",
    "\n",
    "    mo = R * A\n",
    "\n",
    "    return mo, sa\n"
   ]
  },
  {
   "cell_type": "code",
   "execution_count": 22,
   "metadata": {
    "collapsed": true
   },
   "outputs": [],
   "source": [
    "#plots a group of 251 samples of the Neural System Output for a given stimulus(e)\n",
    "def plotPattern1(e):\n",
    "    sa = 1\n",
    "\n",
    "    data = []\n",
    "    for i in range(1, 251):\n",
    "        mo, sa = aNSMOutput(e, sa)\n",
    "        data.append(mo[1][1])\n",
    "    return data"
   ]
  },
  {
   "cell_type": "code",
   "execution_count": 1,
   "metadata": {
    "collapsed": true
   },
   "outputs": [],
   "source": [
    "#plots a group of 251 samples of the Neural System Output for a given stimulus(e)\n",
    "def plotPattern(e, figure, subplot, color):\n",
    "    sa = 0\n",
    "    \n",
    "    data = []\n",
    "    for i in range(1, 251):\n",
    "        mo, sa = aNSMOutput(e, sa)\n",
    "        data.append(mo[1][1])\n",
    "\n",
    "    plt.figure(figure)\n",
    "    plt.subplot(subplot)\n",
    "    plt.plot(data, color)\n",
    "    plt.ylabel('Neuron (1,1) output.')\n",
    "    plt.xlabel('n.')\n",
    "    plt.title('Plot Pattern On e = ' + str(e))\n",
    "    return data\n"
   ]
  },
  {
   "cell_type": "code",
   "execution_count": 18,
   "metadata": {
    "collapsed": true
   },
   "outputs": [],
   "source": [
    "def getNeuralResponse(e):\n",
    "    data = plotPattern1(e)\n",
    "    xk = data[50:250]\n",
    "    xkmo = data[49:249]\n",
    "    return xk, xkmo"
   ]
  }
 ],
 "metadata": {
  "kernelspec": {
   "display_name": "Python 3",
   "language": "python",
   "name": "python3"
  },
  "language_info": {
   "codemirror_mode": {
    "name": "ipython",
    "version": 3
   },
   "file_extension": ".py",
   "mimetype": "text/x-python",
   "name": "python",
   "nbconvert_exporter": "python",
   "pygments_lexer": "ipython3",
   "version": "3.6.1"
  }
 },
 "nbformat": 4,
 "nbformat_minor": 2
}
